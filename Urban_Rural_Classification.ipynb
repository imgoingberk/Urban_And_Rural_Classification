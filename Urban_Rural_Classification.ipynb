{
  "nbformat": 4,
  "nbformat_minor": 0,
  "metadata": {
    "colab": {
      "provenance": []
    },
    "kernelspec": {
      "name": "python3",
      "display_name": "Python 3"
    },
    "language_info": {
      "name": "python"
    }
  },
  "cells": [
    {
      "cell_type": "code",
      "execution_count": 1,
      "metadata": {
        "colab": {
          "base_uri": "https://localhost:8080/"
        },
        "id": "4d_GzchQA4P6",
        "outputId": "fb90b48d-27b1-4299-b643-f514fdf5806f"
      },
      "outputs": [
        {
          "output_type": "stream",
          "name": "stdout",
          "text": [
            "Model: \"sequential\"\n",
            "_________________________________________________________________\n",
            " Layer (type)                Output Shape              Param #   \n",
            "=================================================================\n",
            " resnet50 (Functional)       (None, 2048)              23587712  \n",
            "                                                                 \n",
            " dense (Dense)               (None, 2)                 4098      \n",
            "                                                                 \n",
            "=================================================================\n",
            "Total params: 23591810 (90.00 MB)\n",
            "Trainable params: 4098 (16.01 KB)\n",
            "Non-trainable params: 23587712 (89.98 MB)\n",
            "_________________________________________________________________\n"
          ]
        }
      ],
      "source": [
        "from tensorflow.keras.applications import ResNet50\n",
        "from tensorflow.keras import Sequential\n",
        "from tensorflow.keras.layers import Dense\n",
        "\n",
        "num_classes = 2\n",
        "resnet_weights_path = '/content/resnet50_weights_tf_dim_ordering_tf_kernels_notop.h5'\n",
        "\n",
        "my_new_model = Sequential()\n",
        "my_new_model.add(ResNet50(include_top=False, pooling='avg', weights=resnet_weights_path))\n",
        "my_new_model.add(Dense(num_classes, activation='softmax'))\n",
        "\n",
        "# Say not to train first layer (ResNet) model. It is already trained\n",
        "my_new_model.layers[0].trainable = False\n",
        "\n",
        "my_new_model.summary()"
      ]
    },
    {
      "cell_type": "code",
      "source": [
        "from google.colab import drive\n",
        "drive.mount('/content/drive')"
      ],
      "metadata": {
        "id": "NH04149kwOjx"
      },
      "execution_count": null,
      "outputs": []
    },
    {
      "cell_type": "code",
      "source": [
        "my_new_model.compile(optimizer='sgd', loss='categorical_crossentropy', metrics=['accuracy'])"
      ],
      "metadata": {
        "id": "Uw7kWb8jsJMN"
      },
      "execution_count": 2,
      "outputs": []
    },
    {
      "cell_type": "code",
      "source": [
        "!unzip /content/urbanandrural.zip -d /content/Data"
      ],
      "metadata": {
        "colab": {
          "base_uri": "https://localhost:8080/"
        },
        "id": "xF12RQnVw2UR",
        "outputId": "622c017c-17af-4cb5-8af0-fb92753a8628"
      },
      "execution_count": 5,
      "outputs": [
        {
          "output_type": "stream",
          "name": "stdout",
          "text": [
            "Archive:  /content/urbanandrural.zip\n",
            "  inflating: /content/Data/rural_and_urban_photos/train/rural/rural1.jpeg  \n",
            "  inflating: /content/Data/rural_and_urban_photos/train/rural/rural11.jpeg  \n",
            "  inflating: /content/Data/rural_and_urban_photos/train/rural/rural12.jpeg  \n",
            "  inflating: /content/Data/rural_and_urban_photos/train/rural/rural13.jpeg  \n",
            "  inflating: /content/Data/rural_and_urban_photos/train/rural/rural14.jpeg  \n",
            "  inflating: /content/Data/rural_and_urban_photos/train/rural/rural16.jpeg  \n",
            "  inflating: /content/Data/rural_and_urban_photos/train/rural/rural17.jpeg  \n",
            "  inflating: /content/Data/rural_and_urban_photos/train/rural/rural18.jpeg  \n",
            "  inflating: /content/Data/rural_and_urban_photos/train/rural/rural19.jpg  \n",
            "  inflating: /content/Data/rural_and_urban_photos/train/rural/rural2.jpeg  \n",
            "  inflating: /content/Data/rural_and_urban_photos/train/rural/rural21.jpg  \n",
            "  inflating: /content/Data/rural_and_urban_photos/train/rural/rural22.jpeg  \n",
            "  inflating: /content/Data/rural_and_urban_photos/train/rural/rural23.jpeg  \n",
            "  inflating: /content/Data/rural_and_urban_photos/train/rural/rural24.jpeg  \n",
            "  inflating: /content/Data/rural_and_urban_photos/train/rural/rural26.jpeg  \n",
            "  inflating: /content/Data/rural_and_urban_photos/train/rural/rural27.jpeg  \n",
            "  inflating: /content/Data/rural_and_urban_photos/train/rural/rural28.jpeg  \n",
            "  inflating: /content/Data/rural_and_urban_photos/train/rural/rural29.jpeg  \n",
            "  inflating: /content/Data/rural_and_urban_photos/train/rural/rural3.jpeg  \n",
            "  inflating: /content/Data/rural_and_urban_photos/train/rural/rural31.jpeg  \n",
            "  inflating: /content/Data/rural_and_urban_photos/train/rural/rural32.jpeg  \n",
            "  inflating: /content/Data/rural_and_urban_photos/train/rural/rural33.jpeg  \n",
            "  inflating: /content/Data/rural_and_urban_photos/train/rural/rural34.jpeg  \n",
            "  inflating: /content/Data/rural_and_urban_photos/train/rural/rural36.jpeg  \n",
            "  inflating: /content/Data/rural_and_urban_photos/train/rural/rural37.jpeg  \n",
            "  inflating: /content/Data/rural_and_urban_photos/train/rural/rural38.jpg  \n",
            "  inflating: /content/Data/rural_and_urban_photos/train/rural/rural39.jpeg  \n",
            "  inflating: /content/Data/rural_and_urban_photos/train/rural/rural4.jpeg  \n",
            "  inflating: /content/Data/rural_and_urban_photos/train/rural/rural41.jpeg  \n",
            "  inflating: /content/Data/rural_and_urban_photos/train/rural/rural42.jpg  \n",
            "  inflating: /content/Data/rural_and_urban_photos/train/rural/rural43.jpg  \n",
            "  inflating: /content/Data/rural_and_urban_photos/train/rural/rural44.jpg  \n",
            "  inflating: /content/Data/rural_and_urban_photos/train/rural/rural6.jpeg  \n",
            "  inflating: /content/Data/rural_and_urban_photos/train/rural/rural7.jpeg  \n",
            "  inflating: /content/Data/rural_and_urban_photos/train/rural/rural8.jpeg  \n",
            "  inflating: /content/Data/rural_and_urban_photos/train/rural/rural9.jpg  \n",
            "  inflating: /content/Data/rural_and_urban_photos/train/urban/urban_1.jpeg  \n",
            "  inflating: /content/Data/rural_and_urban_photos/train/urban/urban_11.jpeg  \n",
            "  inflating: /content/Data/rural_and_urban_photos/train/urban/urban_12.jpeg  \n",
            "  inflating: /content/Data/rural_and_urban_photos/train/urban/urban_13.jpeg  \n",
            "  inflating: /content/Data/rural_and_urban_photos/train/urban/urban_14.jpeg  \n",
            "  inflating: /content/Data/rural_and_urban_photos/train/urban/urban_16.jpeg  \n",
            "  inflating: /content/Data/rural_and_urban_photos/train/urban/urban_17.jpeg  \n",
            "  inflating: /content/Data/rural_and_urban_photos/train/urban/urban_18.jpeg  \n",
            "  inflating: /content/Data/rural_and_urban_photos/train/urban/urban_19.jpeg  \n",
            "  inflating: /content/Data/rural_and_urban_photos/train/urban/urban_2.jpeg  \n",
            "  inflating: /content/Data/rural_and_urban_photos/train/urban/urban_21.jpeg  \n",
            "  inflating: /content/Data/rural_and_urban_photos/train/urban/urban_22.jpeg  \n",
            "  inflating: /content/Data/rural_and_urban_photos/train/urban/urban_23.jpeg  \n",
            "  inflating: /content/Data/rural_and_urban_photos/train/urban/urban_24.jpeg  \n",
            "  inflating: /content/Data/rural_and_urban_photos/train/urban/urban_26.jpeg  \n",
            "  inflating: /content/Data/rural_and_urban_photos/train/urban/urban_27.jpeg  \n",
            "  inflating: /content/Data/rural_and_urban_photos/train/urban/urban_28.jpeg  \n",
            "  inflating: /content/Data/rural_and_urban_photos/train/urban/urban_29.jpg  \n",
            "  inflating: /content/Data/rural_and_urban_photos/train/urban/urban_3.jpeg  \n",
            "  inflating: /content/Data/rural_and_urban_photos/train/urban/urban_31.jpeg  \n",
            "  inflating: /content/Data/rural_and_urban_photos/train/urban/urban_32.jpeg  \n",
            "  inflating: /content/Data/rural_and_urban_photos/train/urban/urban_33.jpeg  \n",
            "  inflating: /content/Data/rural_and_urban_photos/train/urban/urban_34.jpeg  \n",
            "  inflating: /content/Data/rural_and_urban_photos/train/urban/urban_36.jpeg  \n",
            "  inflating: /content/Data/rural_and_urban_photos/train/urban/urban_37.jpg  \n",
            "  inflating: /content/Data/rural_and_urban_photos/train/urban/urban_38.jpg  \n",
            "  inflating: /content/Data/rural_and_urban_photos/train/urban/urban_39.jpeg  \n",
            "  inflating: /content/Data/rural_and_urban_photos/train/urban/urban_4.jpeg  \n",
            "  inflating: /content/Data/rural_and_urban_photos/train/urban/urban_41.jpeg  \n",
            "  inflating: /content/Data/rural_and_urban_photos/train/urban/urban_42.jpeg  \n",
            "  inflating: /content/Data/rural_and_urban_photos/train/urban/urban_43.jpeg  \n",
            "  inflating: /content/Data/rural_and_urban_photos/train/urban/urban_44.jpg  \n",
            "  inflating: /content/Data/rural_and_urban_photos/train/urban/urban_6.jpeg  \n",
            "  inflating: /content/Data/rural_and_urban_photos/train/urban/urban_7.jpeg  \n",
            "  inflating: /content/Data/rural_and_urban_photos/train/urban/urban_8.jpeg  \n",
            "  inflating: /content/Data/rural_and_urban_photos/train/urban/urban_9.jpeg  \n",
            "  inflating: /content/Data/rural_and_urban_photos/val/rural/rural0.jpeg  \n",
            "  inflating: /content/Data/rural_and_urban_photos/val/rural/rural10.jpeg  \n",
            "  inflating: /content/Data/rural_and_urban_photos/val/rural/rural15.jpg  \n",
            "  inflating: /content/Data/rural_and_urban_photos/val/rural/rural20.jpeg  \n",
            "  inflating: /content/Data/rural_and_urban_photos/val/rural/rural25.jpeg  \n",
            "  inflating: /content/Data/rural_and_urban_photos/val/rural/rural30.jpeg  \n",
            "  inflating: /content/Data/rural_and_urban_photos/val/rural/rural35.jpeg  \n",
            "  inflating: /content/Data/rural_and_urban_photos/val/rural/rural40.jpg  \n",
            "  inflating: /content/Data/rural_and_urban_photos/val/rural/rural45.jpeg  \n",
            "  inflating: /content/Data/rural_and_urban_photos/val/rural/rural5.jpeg  \n",
            "  inflating: /content/Data/rural_and_urban_photos/val/urban/urban0.jpeg  \n",
            "  inflating: /content/Data/rural_and_urban_photos/val/urban/urban_10.jpeg  \n",
            "  inflating: /content/Data/rural_and_urban_photos/val/urban/urban_15.jpeg  \n",
            "  inflating: /content/Data/rural_and_urban_photos/val/urban/urban_20.jpeg  \n",
            "  inflating: /content/Data/rural_and_urban_photos/val/urban/urban_25.jpeg  \n",
            "  inflating: /content/Data/rural_and_urban_photos/val/urban/urban_30.jpg  \n",
            "  inflating: /content/Data/rural_and_urban_photos/val/urban/urban_35.jpeg  \n",
            "  inflating: /content/Data/rural_and_urban_photos/val/urban/urban_40.jpeg  \n",
            "  inflating: /content/Data/rural_and_urban_photos/val/urban/urban_45.jpg  \n",
            "  inflating: /content/Data/rural_and_urban_photos/val/urban/urban_5.jpeg  \n",
            "  inflating: /content/Data/train/rural/rural1.jpeg  \n",
            "  inflating: /content/Data/train/rural/rural11.jpeg  \n",
            "  inflating: /content/Data/train/rural/rural12.jpeg  \n",
            "  inflating: /content/Data/train/rural/rural13.jpeg  \n",
            "  inflating: /content/Data/train/rural/rural14.jpeg  \n",
            "  inflating: /content/Data/train/rural/rural16.jpeg  \n",
            "  inflating: /content/Data/train/rural/rural17.jpeg  \n",
            "  inflating: /content/Data/train/rural/rural18.jpeg  \n",
            "  inflating: /content/Data/train/rural/rural19.jpg  \n",
            "  inflating: /content/Data/train/rural/rural2.jpeg  \n",
            "  inflating: /content/Data/train/rural/rural21.jpg  \n",
            "  inflating: /content/Data/train/rural/rural22.jpeg  \n",
            "  inflating: /content/Data/train/rural/rural23.jpeg  \n",
            "  inflating: /content/Data/train/rural/rural24.jpeg  \n",
            "  inflating: /content/Data/train/rural/rural26.jpeg  \n",
            "  inflating: /content/Data/train/rural/rural27.jpeg  \n",
            "  inflating: /content/Data/train/rural/rural28.jpeg  \n",
            "  inflating: /content/Data/train/rural/rural29.jpeg  \n",
            "  inflating: /content/Data/train/rural/rural3.jpeg  \n",
            "  inflating: /content/Data/train/rural/rural31.jpeg  \n",
            "  inflating: /content/Data/train/rural/rural32.jpeg  \n",
            "  inflating: /content/Data/train/rural/rural33.jpeg  \n",
            "  inflating: /content/Data/train/rural/rural34.jpeg  \n",
            "  inflating: /content/Data/train/rural/rural36.jpeg  \n",
            "  inflating: /content/Data/train/rural/rural37.jpeg  \n",
            "  inflating: /content/Data/train/rural/rural38.jpg  \n",
            "  inflating: /content/Data/train/rural/rural39.jpeg  \n",
            "  inflating: /content/Data/train/rural/rural4.jpeg  \n",
            "  inflating: /content/Data/train/rural/rural41.jpeg  \n",
            "  inflating: /content/Data/train/rural/rural42.jpg  \n",
            "  inflating: /content/Data/train/rural/rural43.jpg  \n",
            "  inflating: /content/Data/train/rural/rural44.jpg  \n",
            "  inflating: /content/Data/train/rural/rural6.jpeg  \n",
            "  inflating: /content/Data/train/rural/rural7.jpeg  \n",
            "  inflating: /content/Data/train/rural/rural8.jpeg  \n",
            "  inflating: /content/Data/train/rural/rural9.jpg  \n",
            "  inflating: /content/Data/train/urban/urban_1.jpeg  \n",
            "  inflating: /content/Data/train/urban/urban_11.jpeg  \n",
            "  inflating: /content/Data/train/urban/urban_12.jpeg  \n",
            "  inflating: /content/Data/train/urban/urban_13.jpeg  \n",
            "  inflating: /content/Data/train/urban/urban_14.jpeg  \n",
            "  inflating: /content/Data/train/urban/urban_16.jpeg  \n",
            "  inflating: /content/Data/train/urban/urban_17.jpeg  \n",
            "  inflating: /content/Data/train/urban/urban_18.jpeg  \n",
            "  inflating: /content/Data/train/urban/urban_19.jpeg  \n",
            "  inflating: /content/Data/train/urban/urban_2.jpeg  \n",
            "  inflating: /content/Data/train/urban/urban_21.jpeg  \n",
            "  inflating: /content/Data/train/urban/urban_22.jpeg  \n",
            "  inflating: /content/Data/train/urban/urban_23.jpeg  \n",
            "  inflating: /content/Data/train/urban/urban_24.jpeg  \n",
            "  inflating: /content/Data/train/urban/urban_26.jpeg  \n",
            "  inflating: /content/Data/train/urban/urban_27.jpeg  \n",
            "  inflating: /content/Data/train/urban/urban_28.jpeg  \n",
            "  inflating: /content/Data/train/urban/urban_29.jpg  \n",
            "  inflating: /content/Data/train/urban/urban_3.jpeg  \n",
            "  inflating: /content/Data/train/urban/urban_31.jpeg  \n",
            "  inflating: /content/Data/train/urban/urban_32.jpeg  \n",
            "  inflating: /content/Data/train/urban/urban_33.jpeg  \n",
            "  inflating: /content/Data/train/urban/urban_34.jpeg  \n",
            "  inflating: /content/Data/train/urban/urban_36.jpeg  \n",
            "  inflating: /content/Data/train/urban/urban_37.jpg  \n",
            "  inflating: /content/Data/train/urban/urban_38.jpg  \n",
            "  inflating: /content/Data/train/urban/urban_39.jpeg  \n",
            "  inflating: /content/Data/train/urban/urban_4.jpeg  \n",
            "  inflating: /content/Data/train/urban/urban_41.jpeg  \n",
            "  inflating: /content/Data/train/urban/urban_42.jpeg  \n",
            "  inflating: /content/Data/train/urban/urban_43.jpeg  \n",
            "  inflating: /content/Data/train/urban/urban_44.jpg  \n",
            "  inflating: /content/Data/train/urban/urban_6.jpeg  \n",
            "  inflating: /content/Data/train/urban/urban_7.jpeg  \n",
            "  inflating: /content/Data/train/urban/urban_8.jpeg  \n",
            "  inflating: /content/Data/train/urban/urban_9.jpeg  \n",
            "  inflating: /content/Data/val/rural/rural0.jpeg  \n",
            "  inflating: /content/Data/val/rural/rural10.jpeg  \n",
            "  inflating: /content/Data/val/rural/rural15.jpg  \n",
            "  inflating: /content/Data/val/rural/rural20.jpeg  \n",
            "  inflating: /content/Data/val/rural/rural25.jpeg  \n",
            "  inflating: /content/Data/val/rural/rural30.jpeg  \n",
            "  inflating: /content/Data/val/rural/rural35.jpeg  \n",
            "  inflating: /content/Data/val/rural/rural40.jpg  \n",
            "  inflating: /content/Data/val/rural/rural45.jpeg  \n",
            "  inflating: /content/Data/val/rural/rural5.jpeg  \n",
            "  inflating: /content/Data/val/urban/urban0.jpeg  \n",
            "  inflating: /content/Data/val/urban/urban_10.jpeg  \n",
            "  inflating: /content/Data/val/urban/urban_15.jpeg  \n",
            "  inflating: /content/Data/val/urban/urban_20.jpeg  \n",
            "  inflating: /content/Data/val/urban/urban_25.jpeg  \n",
            "  inflating: /content/Data/val/urban/urban_30.jpg  \n",
            "  inflating: /content/Data/val/urban/urban_35.jpeg  \n",
            "  inflating: /content/Data/val/urban/urban_40.jpeg  \n",
            "  inflating: /content/Data/val/urban/urban_45.jpg  \n",
            "  inflating: /content/Data/val/urban/urban_5.jpeg  \n"
          ]
        }
      ]
    },
    {
      "cell_type": "code",
      "source": [
        "from tensorflow.keras.applications.resnet50 import preprocess_input\n",
        "from keras.preprocessing.image import ImageDataGenerator\n",
        "\n",
        "\n",
        "image_size = 224\n",
        "data_generator = ImageDataGenerator(preprocessing_function=preprocess_input)\n",
        "\n",
        "\n",
        "train_generator = data_generator.flow_from_directory(\n",
        "        '/content/Data/rural_and_urban_photos/train',\n",
        "        target_size=(image_size, image_size),\n",
        "        batch_size=12,\n",
        "        class_mode='categorical')\n",
        "\n",
        "validation_generator = data_generator.flow_from_directory(\n",
        "        '/content/Data/rural_and_urban_photos/val',\n",
        "        target_size=(image_size, image_size),\n",
        "        batch_size=20,\n",
        "        class_mode='categorical')"
      ],
      "metadata": {
        "colab": {
          "base_uri": "https://localhost:8080/"
        },
        "id": "wWVJ9ns2tLpZ",
        "outputId": "8a30484d-9f52-44a3-a230-9ed1b88521d8"
      },
      "execution_count": 6,
      "outputs": [
        {
          "output_type": "stream",
          "name": "stdout",
          "text": [
            "Found 72 images belonging to 2 classes.\n",
            "Found 20 images belonging to 2 classes.\n"
          ]
        }
      ]
    },
    {
      "cell_type": "code",
      "source": [
        "my_new_model.fit(\n",
        "        train_generator,\n",
        "        steps_per_epoch=6,\n",
        "        validation_data=validation_generator,\n",
        "        validation_steps=1)"
      ],
      "metadata": {
        "colab": {
          "base_uri": "https://localhost:8080/"
        },
        "id": "1kjHnWPlxzDv",
        "outputId": "ee7179b6-ea5c-44c4-fe50-dd38e05d7a4f"
      },
      "execution_count": 7,
      "outputs": [
        {
          "output_type": "stream",
          "name": "stdout",
          "text": [
            "6/6 [==============================] - 25s 3s/step - loss: 0.3178 - accuracy: 0.8750 - val_loss: 0.2687 - val_accuracy: 0.8500\n"
          ]
        },
        {
          "output_type": "execute_result",
          "data": {
            "text/plain": [
              "<keras.src.callbacks.History at 0x7a11ccfbdff0>"
            ]
          },
          "metadata": {},
          "execution_count": 7
        }
      ]
    },
    {
      "cell_type": "code",
      "source": [
        "import tensorflow as tf\n",
        "import numpy as np"
      ],
      "metadata": {
        "id": "nAd56J7h0qdK"
      },
      "execution_count": 12,
      "outputs": []
    },
    {
      "cell_type": "code",
      "source": [
        "# prompt: code to convert urban_5.jpeg in content to an array using numpy\n",
        "def imgarr(path):\n",
        " img = tf.keras.preprocessing.image.load_img(path, target_size=(224, 224))\n",
        " x = tf.keras.preprocessing.image.img_to_array(img)\n",
        " x = np.expand_dims(x, axis=0)\n",
        " return(x)\n"
      ],
      "metadata": {
        "id": "Y6w88K2M0JCF"
      },
      "execution_count": 18,
      "outputs": []
    },
    {
      "cell_type": "code",
      "source": [
        "my_new_model.predict(x)"
      ],
      "metadata": {
        "colab": {
          "base_uri": "https://localhost:8080/"
        },
        "id": "hj-3lx3Cyd_T",
        "outputId": "dea24b85-4eeb-45e8-fbad-61a57765b41e"
      },
      "execution_count": 16,
      "outputs": [
        {
          "output_type": "stream",
          "name": "stdout",
          "text": [
            "1/1 [==============================] - 1s 1s/step\n"
          ]
        },
        {
          "output_type": "execute_result",
          "data": {
            "text/plain": [
              "array([[4.0001405e-04, 9.9959999e-01]], dtype=float32)"
            ]
          },
          "metadata": {},
          "execution_count": 16
        }
      ]
    },
    {
      "cell_type": "code",
      "source": [
        "my_new_model.predict(imgarr('/content/Data/train/rural/rural1.jpeg'))"
      ],
      "metadata": {
        "colab": {
          "base_uri": "https://localhost:8080/"
        },
        "id": "FI4OtVdx1jqY",
        "outputId": "dffefa70-3192-4f10-8547-d688d629bb11"
      },
      "execution_count": 28,
      "outputs": [
        {
          "output_type": "stream",
          "name": "stdout",
          "text": [
            "1/1 [==============================] - 0s 320ms/step\n"
          ]
        },
        {
          "output_type": "execute_result",
          "data": {
            "text/plain": [
              "array([[0.8228001 , 0.17719993]], dtype=float32)"
            ]
          },
          "metadata": {},
          "execution_count": 28
        }
      ]
    },
    {
      "cell_type": "code",
      "source": [
        "my_new_model.predict(imgarr('/content/Data/train/rural/rural11.jpeg'))"
      ],
      "metadata": {
        "colab": {
          "base_uri": "https://localhost:8080/"
        },
        "id": "LwWUFnIr2aoF",
        "outputId": "363a6746-44b5-46fd-cf9b-91796057b33b"
      },
      "execution_count": 29,
      "outputs": [
        {
          "output_type": "stream",
          "name": "stdout",
          "text": [
            "1/1 [==============================] - 0s 185ms/step\n"
          ]
        },
        {
          "output_type": "execute_result",
          "data": {
            "text/plain": [
              "array([[0.8018154 , 0.19818455]], dtype=float32)"
            ]
          },
          "metadata": {},
          "execution_count": 29
        }
      ]
    },
    {
      "cell_type": "code",
      "source": [
        "my_new_model.predict(imgarr('/content/Data/train/urban/urban_1.jpeg'))"
      ],
      "metadata": {
        "colab": {
          "base_uri": "https://localhost:8080/"
        },
        "id": "d7WThx6_3Vd3",
        "outputId": "79883864-4321-4e8b-b670-224198d0eb72"
      },
      "execution_count": 30,
      "outputs": [
        {
          "output_type": "stream",
          "name": "stdout",
          "text": [
            "1/1 [==============================] - 0s 188ms/step\n"
          ]
        },
        {
          "output_type": "execute_result",
          "data": {
            "text/plain": [
              "array([[0.00544347, 0.99455655]], dtype=float32)"
            ]
          },
          "metadata": {},
          "execution_count": 30
        }
      ]
    },
    {
      "cell_type": "code",
      "source": [
        "my_new_model.predict(imgarr('/content/Data/train/urban/urban_11.jpeg'))"
      ],
      "metadata": {
        "colab": {
          "base_uri": "https://localhost:8080/"
        },
        "id": "FeMXigfW3Vr-",
        "outputId": "edafe4b3-74d8-4b1f-d86d-54fcb92691e8"
      },
      "execution_count": 31,
      "outputs": [
        {
          "output_type": "stream",
          "name": "stdout",
          "text": [
            "1/1 [==============================] - 0s 299ms/step\n"
          ]
        },
        {
          "output_type": "execute_result",
          "data": {
            "text/plain": [
              "array([[0.00192741, 0.9980726 ]], dtype=float32)"
            ]
          },
          "metadata": {},
          "execution_count": 31
        }
      ]
    }
  ]
}